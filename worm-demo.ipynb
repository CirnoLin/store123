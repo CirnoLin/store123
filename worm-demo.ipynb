{
 "cells": [
  {
   "cell_type": "code",
   "execution_count": 1,
   "metadata": {},
   "outputs": [],
   "source": [
    "import requests\n",
    "from bs4 import BeautifulSoup\n",
    "import json\n",
    "from tkinter import*\n",
    "from tkinter import ttk"
   ]
  },
  {
   "cell_type": "code",
   "execution_count": 2,
   "metadata": {},
   "outputs": [
    {
     "name": "stderr",
     "output_type": "stream",
     "text": [
      "e:\\anaconda3\\lib\\site-packages\\urllib3\\connectionpool.py:1004: InsecureRequestWarning: Unverified HTTPS request is being made to host 'yjszs.ecnu.edu.cn'. Adding certificate verification is strongly advised. See: https://urllib3.readthedocs.io/en/latest/advanced-usage.html#ssl-warnings\n",
      "  InsecureRequestWarning,\n",
      "e:\\anaconda3\\lib\\site-packages\\urllib3\\connectionpool.py:1004: InsecureRequestWarning: Unverified HTTPS request is being made to host 'yjszs.ecnu.edu.cn'. Adding certificate verification is strongly advised. See: https://urllib3.readthedocs.io/en/latest/advanced-usage.html#ssl-warnings\n",
      "  InsecureRequestWarning,\n"
     ]
    }
   ],
   "source": [
    "def getread(url):\n",
    "    headers = {'User-Agent': 'Mozilla/5.0 (Windows NT 10.0; Win64; x64) AppleWebKit/537.36 (KHTML, like Gecko) Chrome/65.0.3325.146 Safari/537.36'}\n",
    "    h=requests.get(url,headers=headers,verify=False)\n",
    "    h.raise_for_status()\n",
    "    h.encoding=\"gbk\"\n",
    "    soup=BeautifulSoup(h.text,\"lxml\")\n",
    "    return soup\n",
    "url=\"https://yjszs.ecnu.edu.cn/system/sszszyml_list.asp\"\n",
    "n1=getread(url).find_all(\"a\",{\"target\":\"_blank\"})\n",
    "dictmain={}\n",
    "Lzongxi=[]\n",
    "Lnum=[]\n",
    "Lxiaoxi=[]\n",
    "Ldaxi=[]\n",
    "for i in n1:\n",
    "    if i.string[4:5].isdigit()==False:\n",
    "        Ldaxi.append(i.string)\n",
    "for i in n1:\n",
    "    if i.string[4:5].isdigit()==False:\n",
    "        Lzongxi.append(i.string)\n",
    "    else:\n",
    "        Lzongxi.append(i.string)\n",
    "for i in Lzongxi:   \n",
    "    if i[4:5].isdigit()==False:\n",
    "        Lnum.append(Lzongxi.index(i))\n",
    "for i in range(1,len(Lnum)):   \n",
    "        dictmain[Ldaxi[i-1]]=Lzongxi[Lnum[i-1]+1:Lnum[i]]\n",
    "\n",
    "dictmain[Ldaxi[-1]]=Lzongxi[Lnum[-1]+1:len(Lzongxi)]\n",
    "\n",
    "dictmain['(147)教育专业学位管理中心']= ['(045102)学科教学（思政）（非全日制）', '(045103)学科教学（语文）（非全日制）', '(045104)学科教学（数学）（非全日制）', '(045105)学科教学（物理）（非全日制）', '(045106)学科教学（化学）（非全日制）', '(045107)学科教学（生物）（非全日制）', '(045108)学科教学（英语）（非全日制）', '(045109)学科教学（历史）（非全日制）', '(045110)学科教学（地理）（非全日制）']\n",
    "for i in list(dictmain.values()):\n",
    "    for m in i:\n",
    "        Lxiaoxi.append(m)\n",
    "    \n",
    "n2=getread(url).find_all(\"a\")\n",
    "d2=[]\n",
    "Ldaxi2=[]\n",
    "Lxiaoxi2=[]\n",
    "Lzongxi2=[]\n",
    "Lnum2=[]\n",
    "for i in n2:\n",
    "    if len(i[\"href\"])==35:\n",
    "        Ldaxi2.append(i[\"href\"])\n",
    "    else:\n",
    "        Lxiaoxi2.append(i[\"href\"])\n",
    "for i in n2:\n",
    "    Lzongxi2.append(i[\"href\"])\n",
    "for i in Lzongxi2:\n",
    "    if len(i)==35:\n",
    "        Lnum2.append(Lzongxi2.index(i))\n",
    "for i in range(0,len(Lnum2)):\n",
    "    d2.append(Lzongxi2[Lnum[i]+1])"
   ]
  },
  {
   "cell_type": "code",
   "execution_count": 3,
   "metadata": {},
   "outputs": [],
   "source": [
    "def getx(web):\n",
    "    h=getread(\"https://yjszs.ecnu.edu.cn/system/\"+web)\n",
    "    l=h.td.get_text()\n",
    "    i=l.split(\" \")\n",
    "    List=[]\n",
    "    Lvalue=[]\n",
    "    for item in i:\n",
    "        item=item.replace(\"\\n\",\"\").replace(\"\\t\",\"\").replace(\"\\r\",\"\").replace(\"[\",\"\").replace(\"]\",\"\").replace(\",\",\"\")\n",
    "        if item!=\"\" and item!=\"初试范围复试范围专业简介\":\n",
    "            List.append(item)\n",
    "    return List"
   ]
  },
  {
   "cell_type": "code",
   "execution_count": 4,
   "metadata": {},
   "outputs": [],
   "source": [
    "def change(course):\n",
    "    c1=Lxiaoxi.index(course)\n",
    "    c2=Lxiaoxi2[c1]\n",
    "    return c2"
   ]
  },
  {
   "cell_type": "code",
   "execution_count": 11,
   "metadata": {},
   "outputs": [],
   "source": [
    "def exam(course):\n",
    "    if course[-6:]==\"（非全日制）\":\n",
    "        return course[:-6]\n",
    "    else:\n",
    "        return course  "
   ]
  },
  {
   "cell_type": "code",
   "execution_count": 12,
   "metadata": {},
   "outputs": [],
   "source": [
    "def getmessage(course):\n",
    "    Lmessage=[]\n",
    "    messageList=getx(change(course))\n",
    "    course=exam(course)\n",
    "    namenum=messageList.index(course)\n",
    "    if str(int(messageList[namenum-2])+1) in messageList:\n",
    "        numnext=messageList.index(str(int(messageList[namenum-2])+1))\n",
    "        return messageList[namenum+1:numnext]\n",
    "    else:\n",
    "        return messageList[namenum+1:len(messageList)] "
   ]
  },
  {
   "cell_type": "code",
   "execution_count": 13,
   "metadata": {},
   "outputs": [],
   "source": [
    "def showmes(event):\n",
    "    lvalue=[]\n",
    "    for i in dictmain.get(cbox.get()):\n",
    "        lvalue.append(i)\n",
    "    cbox1[\"values\"]=tuple(lvalue)"
   ]
  },
  {
   "cell_type": "code",
   "execution_count": 15,
   "metadata": {},
   "outputs": [],
   "source": [
    "def showmes2(event):\n",
    "    lvalue2=getmessage(cbox1.get())\n",
    "    if cbox2.get()==\"学位类型\":\n",
    "        txt.delete(1.0,END)\n",
    "        txt.insert(1.0,lvalue2[0])\n",
    "    if cbox2.get()==\"招生人数\":\n",
    "        txt.delete(1.0,END)\n",
    "        txt.insert(1.0,lvalue2[1])\n",
    "    if cbox2.get()==\"研究方向\":\n",
    "        txt.delete(1.0,END)\n",
    "        txt.insert(1.0,lvalue2[2:gety(lvalue2)+1])\n",
    "    if cbox2.get()==\"考试科目\":\n",
    "        txt.delete(1.0,END)\n",
    "        txt.insert(1.0,lvalue2[gety(lvalue2)+1])      \n",
    "window=Tk()\n",
    "window.geometry(\"600x200\")\n",
    "window.title(\"相关专业数据的快速获取\")\n",
    "lbl1=Label(window,text=\"招生单位\",width=20)\n",
    "lbl1.grid(row=0,column=3)\n",
    "value1=StringVar\n",
    "cbox=ttk.Combobox(window,width=40,textvariable=value1)\n",
    "lvalue0=[]\n",
    "cbox[\"values\"]=tuple(Ldaxi)\n",
    "cbox.grid(row=1,column=3)\n",
    "cbox.bind(\"<<ComboboxSelected>>\",showmes)\n",
    "lbl2=Label(window,text=\"招生专业\",width=20)\n",
    "lbl2.grid(row=2,column=3)\n",
    "value2=StringVar\n",
    "cbox1=ttk.Combobox(window,width=40,textvariable=value2)\n",
    "cbox1.grid(row=3,column=3)\n",
    "    \n",
    "txt=Text(window)\n",
    "txt.insert(1.0,\"您还未设置查询信息\")\n",
    "txt.grid(row=6,column=3)\n",
    "    \n",
    "lbl4=Label(window,text=\"相关信息\",width=20)\n",
    "lbl4.grid(row=4,column=3)\n",
    "value3=StringVar\n",
    "cbox2=ttk.Combobox(window,width=40,textvariable=value3)\n",
    "cbox2[\"values\"]=(\"学位类型\",\"招生人数\",\"研究方向\",\"考试科目\")\n",
    "cbox2.grid(row=5,column=3)\n",
    "cbox2.bind(\"<<ComboboxSelected>>\",showmes2)\n",
    "window.mainloop()"
   ]
  },
  {
   "cell_type": "code",
   "execution_count": 9,
   "metadata": {},
   "outputs": [],
   "source": [
    "def gety(L):\n",
    "    L2=[]\n",
    "    Li=[]\n",
    "    for i in L:\n",
    "        if i.isdigit()==True:\n",
    "            Li.append(int(i))\n",
    "            L2.append(i)\n",
    "    maxnum=Li.index(max(Li))\n",
    "    ynum=L.index(L2[maxnum])\n",
    "    lnum=L.index(L[ynum+1])\n",
    "    return lnum"
   ]
  },
  {
   "cell_type": "code",
   "execution_count": 10,
   "metadata": {},
   "outputs": [],
   "source": [
    "with open(\"data.json\",\"w\",encoding=\"utf-8\") as fw:\n",
    "    json.dump(dictmain,fw,ensure_ascii=False)\n",
    "f2=open(\"web.txt\",\"w\")\n",
    "for i in d2:\n",
    "    f2.write(i)\n",
    "    f2.write(\"\\n\")\n",
    "f2.close()"
   ]
  },
  {
   "cell_type": "code",
   "execution_count": null,
   "metadata": {},
   "outputs": [],
   "source": []
  }
 ],
 "metadata": {
  "kernelspec": {
   "display_name": "Python 3",
   "language": "python",
   "name": "python3"
  },
  "language_info": {
   "codemirror_mode": {
    "name": "ipython",
    "version": 3
   },
   "file_extension": ".py",
   "mimetype": "text/x-python",
   "name": "python",
   "nbconvert_exporter": "python",
   "pygments_lexer": "ipython3",
   "version": "3.7.6"
  }
 },
 "nbformat": 4,
 "nbformat_minor": 4
}
